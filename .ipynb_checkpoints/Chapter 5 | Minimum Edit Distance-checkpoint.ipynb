{
 "cells": [
  {
   "cell_type": "markdown",
   "metadata": {},
   "source": [
    "<h1 style=\"text-align:center\">Chapter 5</h1>"
   ]
  },
  {
   "cell_type": "markdown",
   "metadata": {},
   "source": [
    "## String similarity"
   ]
  },
  {
   "cell_type": "markdown",
   "metadata": {},
   "source": [
    "* Coreference - The task of determining whether the two strings refer to the <strong>same entity</strong>.\n",
    "\n",
    "Example,\n",
    "\n",
    "- <strong>President of India, Mr. Narendra Modi</strong>\n",
    "- <strong>Indian President, Mr. Narendra Modi</strong>"
   ]
  },
  {
   "cell_type": "markdown",
   "metadata": {},
   "source": [
    "The fact that two strings like the ones above, are very similary can be used as an evidence to decide if they coreferent."
   ]
  },
  {
   "cell_type": "markdown",
   "metadata": {},
   "source": [
    "---\n",
    "\n",
    "But how do we quantify a string's similarity ?"
   ]
  },
  {
   "cell_type": "markdown",
   "metadata": {},
   "source": [
    "### Minimum Edit Distance\n",
    "\n",
    "> Minimum edit distance is the minimum number of operations like insertion, deletion, substitution required to convert one string to another.\n",
    "\n",
    "Smaller the distance, more similar the strings."
   ]
  },
  {
   "cell_type": "markdown",
   "metadata": {},
   "source": [
    "#### Let's look at some examples"
   ]
  },
  {
   "cell_type": "markdown",
   "metadata": {},
   "source": [
    "###### Example 1\n",
    "---"
   ]
  },
  {
   "cell_type": "markdown",
   "metadata": {},
   "source": [
    "Suppose there are two strings,\n",
    "\n",
    "s1 = 'Woman'\n",
    "\n",
    "s2 = 'Women'\n",
    "\n",
    "The operations allowed are,\n",
    "\n",
    "```\n",
    "d - deletion\n",
    "s - substitution\n",
    "i - insertion\n",
    "```\n",
    "s1 can be converted to s2 just by a substituion operation - (s)\n",
    "\n",
    "Substitute <strong>e</strong> in s2 with an <strong>a</strong>.\n",
    "\n",
    "Now we can provide a weight to these 3 operations.\n",
    "If here the weight of each operation is 1, then the distance between s1 and s2 is 1.\n"
   ]
  },
  {
   "cell_type": "markdown",
   "metadata": {},
   "source": [
    "### Levenshtein Distance\n",
    "\n",
    "> Levenshtein distance is a minimum distance metric in which each operation has a weight of 1, and substition is not allowed, which is equivalent of substitution having a weight of 2. (1 for insertion and 1 for deletion)."
   ]
  },
  {
   "cell_type": "markdown",
   "metadata": {},
   "source": [
    "###### Example 2\n",
    "---"
   ]
  },
  {
   "cell_type": "markdown",
   "metadata": {},
   "source": [
    "Take two strings,\n",
    "\n",
    "s1 = 'I N T E N T I O N'\n",
    "\n",
    "s2 = 'E X E C U T I O N'\n",
    "\n",
    "The operations allowed are,\n",
    "\n",
    "```\n",
    "d - deletion, weight = 1\n",
    "i - insertion, weight = 1\n",
    "\n",
    "```\n",
    "\n",
    "To convert s1 into s2, the following operations will be performed,\n",
    "\n",
    "- delete an 'I', cost = 1\n",
    "- substitute 'E' for 'N', cost = 2\n",
    "- substitute 'X' for 'T', cost = 2\n",
    "- insert 'C', cost = 1\n",
    "- substitute 'U' for 'N', cost = 2 \n",
    "\n",
    "Distance = 8"
   ]
  }
 ],
 "metadata": {
  "kernelspec": {
   "display_name": "Python 3",
   "language": "python",
   "name": "python3"
  },
  "language_info": {
   "codemirror_mode": {
    "name": "ipython",
    "version": 3
   },
   "file_extension": ".py",
   "mimetype": "text/x-python",
   "name": "python",
   "nbconvert_exporter": "python",
   "pygments_lexer": "ipython3",
   "version": "3.6.9"
  }
 },
 "nbformat": 4,
 "nbformat_minor": 2
}
