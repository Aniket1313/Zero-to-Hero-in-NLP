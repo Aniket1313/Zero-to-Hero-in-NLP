{
 "cells": [
  {
   "cell_type": "markdown",
   "metadata": {},
   "source": [
    "### Regular Expressions\n",
    "* Regular expressions can be used to specify pattern of strings we might want to\n",
    "extract from a document.\n",
    "\n",
    "### Text Normalization\n",
    "> Text normalization is a set of tasks used to convert text into a more convenient, and standard form.\n",
    "\n",
    "* <strong>Tokenization</strong>\n",
    "    * A method to seperate words from running texts.<br>\n",
    "    \n",
    "    *But tokenization is much more than just seperating words*<br>\n",
    "    \n",
    "    * For processing tweets or texts we’ll need to tokenize emoticons like :) or hashtags like #nlproc.\n",
    "    ---\n",
    "* <strong>Lemmatization</strong>\n",
    "    * The task of determining that two words have the same root, despite their surface differences. For example, sang, sung, sing have the same root <strong>sing</strong>. \n",
    "    ℹ️ The word *sing* is known as a <strong>lemma</strong>\n",
    "    ---\n",
    "* <strong>Stemming</strong> \n",
    "    * Stemming refers to a simpler version of lemmatization in which we mainly just strip suffixes from the end of the word.\n",
    "    ---\n",
    "* <strong>Sentence segmentation</strong>\n",
    "    * Sentence segmentation is the method of breaking up individual sentences using cues like point(.), exclamation mark(!) and more.\n",
    "    ---\n",
    "    \n",
    "* <strong>Edit Distance</strong>\n",
    "    * Edit distance a metric that measures similarity between two strings based on the number of edits(insertion, deletion, substitution.\n",
    "    \n",
    "    ---\n",
    "\n",
    "\n",
    "<span style=\"color:red\">English words are often seperated by whitespaces, but it's not always the case. For example, 'New York' & 'rock 'n' roll' shall be treated as single large words rather than splitting on *New* & *York*. A good reason to not rely on python's split() method for tokenization</style></span>"
   ]
  },
  {
   "cell_type": "code",
   "execution_count": null,
   "metadata": {},
   "outputs": [],
   "source": []
  }
 ],
 "metadata": {
  "kernelspec": {
   "display_name": "Python 3",
   "language": "python",
   "name": "python3"
  },
  "language_info": {
   "codemirror_mode": {
    "name": "ipython",
    "version": 3
   },
   "file_extension": ".py",
   "mimetype": "text/x-python",
   "name": "python",
   "nbconvert_exporter": "python",
   "pygments_lexer": "ipython3",
   "version": "3.7.4"
  }
 },
 "nbformat": 4,
 "nbformat_minor": 2
}
