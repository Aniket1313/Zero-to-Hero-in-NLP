{
 "cells": [
  {
   "cell_type": "markdown",
   "metadata": {},
   "source": [
    " <h1 style=\"text-align:center\">Unit 2 | Chapter 1</h1>\n",
    " \n",
    " ---"
   ]
  },
  {
   "cell_type": "markdown",
   "metadata": {},
   "source": [
    "In NLP, some tasks like, speech recognition, autocorrect, requires to predict the next word. \n",
    "\n",
    "Suppose you have a sentence \"I am going to take a ......\"\n",
    "\n",
    "You must have predicted the word \"walk\" or \"bath\" to complete the sentence as \"I am going to take a walk\".\n",
    "\n",
    "But why not \"talk\" or \"dance\" ? Because judging from the previous sentences it's probable that the next word would be walk, or bath, or shower.\n",
    "\n",
    "---\n",
    "\n",
    "That's what a language model does. "
   ]
  },
  {
   "cell_type": "markdown",
   "metadata": {},
   "source": [
    "#### Language Model\n",
    "\n",
    "> A language model assigns probability to each possible next word. The same models can be used to assign probability over an entire sentence."
   ]
  },
  {
   "cell_type": "code",
   "execution_count": null,
   "metadata": {},
   "outputs": [],
   "source": []
  }
 ],
 "metadata": {
  "kernelspec": {
   "display_name": "Python 3",
   "language": "python",
   "name": "python3"
  },
  "language_info": {
   "codemirror_mode": {
    "name": "ipython",
    "version": 3
   },
   "file_extension": ".py",
   "mimetype": "text/x-python",
   "name": "python",
   "nbconvert_exporter": "python",
   "pygments_lexer": "ipython3",
   "version": "3.7.4"
  }
 },
 "nbformat": 4,
 "nbformat_minor": 2
}
