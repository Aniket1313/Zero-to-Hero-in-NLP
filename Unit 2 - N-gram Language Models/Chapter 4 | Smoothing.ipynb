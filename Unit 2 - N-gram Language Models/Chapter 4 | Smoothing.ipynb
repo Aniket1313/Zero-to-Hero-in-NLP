{
 "cells": [
  {
   "cell_type": "markdown",
   "metadata": {},
   "source": [
    " <h4>Unit 2 <h1 style=\"text-align:center\"> Chapter 4</h1>\n",
    " \n",
    " ---"
   ]
  },
  {
   "cell_type": "markdown",
   "metadata": {},
   "source": [
    "Some words may be present in the vocabulary, but appear in the test set in an unknown context. In other words, some words appear in the test set after a word they never appeared after in the training set."
   ]
  },
  {
   "cell_type": "markdown",
   "metadata": {},
   "source": [
    "For example,\n",
    "\n",
    "Suppose the training set has the following co-occurences as below:\n",
    "\n",
    "<strong>'I have taken the required steps'</strong><br>\n",
    "<strong>'The police officer took the required steps at the moment'</strong>\n",
    "\n",
    "Notice that in this little corpus, 'steps' come after 'required'.\n",
    "\n",
    "Now, in the test set, the sentence is,\n",
    "\n",
    "'The steps were mentioned clearly'\n",
    "\n",
    "### A n-gram language model will assign zero probability to this event."
   ]
  },
  {
   "cell_type": "markdown",
   "metadata": {},
   "source": [
    "To keep the language model from assigning zero probability to these events, we shave off some probability mass from freuqent events and give it to rare events."
   ]
  },
  {
   "cell_type": "code",
   "execution_count": null,
   "metadata": {},
   "outputs": [],
   "source": []
  }
 ],
 "metadata": {
  "kernelspec": {
   "display_name": "Python 3",
   "language": "python",
   "name": "python3"
  },
  "language_info": {
   "codemirror_mode": {
    "name": "ipython",
    "version": 3
   },
   "file_extension": ".py",
   "mimetype": "text/x-python",
   "name": "python",
   "nbconvert_exporter": "python",
   "pygments_lexer": "ipython3",
   "version": "3.7.4"
  }
 },
 "nbformat": 4,
 "nbformat_minor": 2
}
