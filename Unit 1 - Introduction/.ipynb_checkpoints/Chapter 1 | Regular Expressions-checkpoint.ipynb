{
 "cells": [
  {
   "cell_type": "markdown",
   "metadata": {},
   "source": [
    " <h1 style=\"text-align:center\">Unit 1 | Chapter 1</h1>\n",
    " \n",
    " ---"
   ]
  },
  {
   "cell_type": "code",
   "execution_count": 1,
   "metadata": {},
   "outputs": [],
   "source": [
    "import re\n",
    "import logging\n",
    "from importlib import reload\n",
    "reload(logging)\n",
    "import sys\n",
    "logging.basicConfig(format='Explanation | %(levelname)s : %(message)s', level=logging.INFO, stream=sys.stdout)\n",
    "log = logging.getLogger(\"Zero to Hero in NLP\")"
   ]
  },
  {
   "cell_type": "markdown",
   "metadata": {},
   "source": [
    "\n",
    "### Regular Expressions\n",
    "> Regular expressions can be used to specify pattern of strings we might want to extract from a document.\n",
    "\n",
    "### Text Normalization\n",
    "> Text normalization is a set of tasks used to convert text into a more convenient, and standard form.\n",
    "\n",
    "* <strong>Tokenization</strong>\n",
    "    * A method to seperate words from running texts.<br>\n",
    "    \n",
    "    *But tokenization is much more than just seperating words*<br>\n",
    "    \n",
    "    * For processing tweets or texts we’ll need to tokenize emoticons like :) or hashtags like #nlproc.\n",
    "    ---\n",
    "* <strong>Lemmatization</strong>\n",
    "    * The task of determining that two words have the same root, despite their surface differences. For example, sang, sung, sing have the same root <strong>sing</strong>. \n",
    "    ℹ️ The word *sing* is known as a <strong>lemma</strong>\n",
    "    ---\n",
    "* <strong>Stemming</strong> \n",
    "    * Stemming refers to a simpler version of lemmatization in which we mainly just strip suffixes from the end of the word.\n",
    "    ---\n",
    "* <strong>Sentence segmentation</strong>\n",
    "    * Sentence segmentation is the method of breaking up individual sentences using cues like point(.), exclamation mark(!) and more.\n",
    "    ---\n",
    "    \n",
    "### Edit Distance\n",
    "> Edit distance a metric that measures similarity between two strings based on the number of edits(insertion, deletion, substitution).\n",
    "    \n",
    "---\n",
    "\n",
    "\n",
    "<span style=\"color:red\">English words are often seperated by whitespaces, but it's not always the case. For example, 'New York' & 'rock 'n' roll' shall be treated as single large words rather than splitting on *New* & *York*. A good reason to not rely on python's split() method for tokenization</style></span>"
   ]
  },
  {
   "cell_type": "markdown",
   "metadata": {},
   "source": [
    "---"
   ]
  },
  {
   "cell_type": "markdown",
   "metadata": {},
   "source": [
    "<h2 style=\"text-align:center\">Regular Expressions</h2>"
   ]
  },
  {
   "cell_type": "markdown",
   "metadata": {},
   "source": [
    "* Regular expressions are useful when we have a *pattern* to search within a *corpus* of text.\n",
    "<br>\n",
    "---\n",
    "<strong>Corpus</strong> - A collection of documents or a single document.\n",
    "\n",
    "---\n",
    "<br>\n",
    "\n",
    "* A regular expression search function will search through the corpus, returning all texts that match the pattern.\n",
    "* Here, regular expressions are delimited by backslashes(/)."
   ]
  },
  {
   "cell_type": "markdown",
   "metadata": {},
   "source": [
    "---\n",
    "A simple regular expression would be a sequence of characters.\n",
    "For example, /woodchuck/, /buttercup/\n",
    "\n",
    "> Couple of things to pay attention to.\n",
    "\n",
    "    * Regular expressions are case-sensitive. 'Woodchuck' does not match the regex /woodchuck/\n",
    "    * Note how the regex is delimited by /.\n",
    " "
   ]
  },
  {
   "cell_type": "markdown",
   "metadata": {},
   "source": [
    "#### Square brackets [ ]\n",
    "\n",
    "> The string of characters inside square braces denote <strong>disjunction</strong> of characters to match. In other words, specifies an OR condition.\n",
    "\n",
    "For example,\n",
    "\n",
    "/[wW]oodchuck/ - This regex matches <strong>w</strong>oodchuck or <strong>W</strong>oodchuck.<br>\n",
    "\n",
    "/[abc]/ - Matches sequence having <strong>a</strong>, <strong>b</strong>, or <strong>c</strong>. Matches 'Hi my n<strong>a</strong>me is John', but not 'A good night'"
   ]
  },
  {
   "cell_type": "markdown",
   "metadata": {},
   "source": [
    "#### Dash -\n",
    "\n",
    "> Characters seperated by dash denote a range.\n",
    "\n",
    "For example,\n",
    "\n",
    "/[2-5]/ - A range of 2 to 5. 2, 3, 4, or 5.<br>\n",
    "\n",
    "/[a-z]/ - A range of lowercase English alphabets. a,b,c,...,z. Matches '<strong>a</strong> good day.'<br>\n",
    "\n",
    "/[A-Z]/ - A range of uppercase English alphabets. A,B,C,...,Z. Matches '<strong>B</strong>est day of my life.'<br>"
   ]
  },
  {
   "cell_type": "markdown",
   "metadata": {},
   "source": [
    "#### Caret ^\n",
    "\n",
    "> If caret is the first character inside a square bracket, the sequence after it is negated. In other words, all the characters are matched except the ones after caret.\n",
    "\n",
    "For example,\n",
    "\n",
    "/[^A-Z]/ - Matches lowercase letters but not uppercase. Matches 'I WAS GOING TO <strong>t</strong>he market'.<br>\n",
    "\n",
    "/[^Ss]/ - Neither S nor s. Matches '<strong>I</strong> had a bad day.'<br>'S<strong>o</strong>metimes I wish to escape'.<br>\n",
    "\n",
    "/[A-Z]/ - A range of uppercase English alphabets. A,B,C,...,Z. Matches '<strong>B</strong>est day of my life.'<br>"
   ]
  },
  {
   "cell_type": "markdown",
   "metadata": {},
   "source": [
    "#### Question mark ?\n",
    "\n",
    "> If specified after a character, it says match or nothing. In other words character before ? is optional\n",
    "\n",
    "For example,\n",
    "\n",
    "/[woodchucks?]/ - Matches with string either having 's' after woodchuck or not at all. Matches woodchuck or woodchucks<br>\n",
    "\n",
    "/[colou?r]/ - Matches with string either having 'u' in colour or not having 'u' at all. Matches color or colour.<br> \n"
   ]
  },
  {
   "cell_type": "code",
   "execution_count": 2,
   "metadata": {},
   "outputs": [
    {
     "name": "stdout",
     "output_type": "stream",
     "text": [
      "['some', 'Some']\n",
      "Explanation | INFO :  Matches Some and some\n"
     ]
    }
   ],
   "source": [
    "print(re.findall(r'[Ss]ome','sometimes I feel very energetic. Somedays not.')) \n",
    "log.info(' Matches Some and some')"
   ]
  },
  {
   "cell_type": "code",
   "execution_count": 3,
   "metadata": {},
   "outputs": [
    {
     "name": "stdout",
     "output_type": "stream",
     "text": [
      "Explanation | INFO : The findall() method returns all the words that match a pattern in a corpus. search() returns the first point of match\n"
     ]
    }
   ],
   "source": [
    "log.info(\"The findall() method returns all the words that match a pattern in a corpus. search() returns the first point of match\")"
   ]
  },
  {
   "cell_type": "code",
   "execution_count": 4,
   "metadata": {},
   "outputs": [
    {
     "name": "stdout",
     "output_type": "stream",
     "text": [
      "['hav', 'had']\n",
      "Explanation | INFO :  Matches words starting with h, having a,b, or c and ending with v or d\n"
     ]
    }
   ],
   "source": [
    "print(re.findall(r'h[abc][vd]','I have had a good day in the cabin ha of my backyard.')) \n",
    "log.info(' Matches words starting with h, having a,b, or c and ending with v or d')\n"
   ]
  },
  {
   "cell_type": "code",
   "execution_count": 5,
   "metadata": {},
   "outputs": [
    {
     "name": "stdout",
     "output_type": "stream",
     "text": [
      "['T', 'B', 'L']\n",
      "Explanation | INFO :  Matches uppercase letters.\n"
     ]
    }
   ],
   "source": [
    "print(re.findall(r'[A-Z]','This is the Besttttt day of my Liffeee')) \n",
    "log.info(' Matches uppercase letters.')\n"
   ]
  },
  {
   "cell_type": "code",
   "execution_count": 6,
   "metadata": {},
   "outputs": [
    {
     "name": "stdout",
     "output_type": "stream",
     "text": [
      "['h', 'i', 's', ' ', 'i', 's', ' ', ' ', 't', 'h', 'e', ' ', 'e', 's', 't', 't', 't', 't', 't', ' ', 'd', 'a', 'y', ' ', 'o', 'f', ' ', 'm', 'y', ' ', 'i', 'f', 'f', 'e', 'e', 'e']\n",
      "Explanation | INFO :  Matches everything except uppercase letters.\n"
     ]
    }
   ],
   "source": [
    "print(re.findall(r'[^A-Z]','This is  the Besttttt day of my Liffeee')) \n",
    "log.info(' Matches everything except uppercase letters.')"
   ]
  },
  {
   "cell_type": "code",
   "execution_count": 7,
   "metadata": {},
   "outputs": [
    {
     "name": "stdout",
     "output_type": "stream",
     "text": [
      "['h', 'i', 's', ' ', 'i', 's', ' ', ' ', 't', 'h', 'e', ' ', 'B', 'e', 's', 't', 't', 't', 't', 't', ' ', 'd', 'a', 'y', ' ', 'o', 'f', ' ', 'm', 'y', ' ', 'L', 'i', 'f', 'f', 'e', 'e', 'e']\n",
      "Explanation | INFO :  Matches everything except uppercase T.\n"
     ]
    }
   ],
   "source": [
    "print(re.findall(r'[^T]','This is  the Besttttt day of my Liffeee')) \n",
    "log.info(' Matches everything except uppercase T.')"
   ]
  },
  {
   "cell_type": "code",
   "execution_count": 8,
   "metadata": {},
   "outputs": [
    {
     "name": "stdout",
     "output_type": "stream",
     "text": [
      "['color', 'colour']\n",
      "Explanation | INFO :  Matches if string has color or colour\n"
     ]
    }
   ],
   "source": [
    "print(re.findall(r'colou?r','Bright colors and colours')) \n",
    "log.info(' Matches if string has color or colour')"
   ]
  },
  {
   "cell_type": "code",
   "execution_count": 9,
   "metadata": {},
   "outputs": [
    {
     "name": "stdout",
     "output_type": "stream",
     "text": [
      "['sunny day', 'sunny days', 'Sunny day', 'Sunny days', 'funny day']\n",
      "Explanation | INFO :  Matches if string has anything with unny day or unny days\n"
     ]
    }
   ],
   "source": [
    "print(re.findall(r'[A-Za-z]unny days?','sunny day vs sunny days vs Sunny day vs Sunny days vs funny day')) \n",
    "log.info(' Matches if string has anything with unny day or unny days')"
   ]
  },
  {
   "cell_type": "markdown",
   "metadata": {},
   "source": [
    "#### Kleene *\n",
    "\n",
    "> The Kleene star means “zero or more occurrences of the immediately previous character or regular expression”.\n",
    "\n",
    "For example,\n",
    "\n",
    "/a*/ - Matches zero or more 'a'. Matches 'baaaaaaa' and 'Hello'<br>\n",
    "\n",
    "/aa*/ - Matches one or more 'a'. Matches 'baaaaaa' but not 'Hello' because atleast one 'a' should be there<br>\n"
   ]
  },
  {
   "cell_type": "code",
   "execution_count": 10,
   "metadata": {},
   "outputs": [
    {
     "name": "stdout",
     "output_type": "stream",
     "text": [
      "['', '', '', '', '', '']\n",
      "Explanation | INFO :  Zero 'a' found\n"
     ]
    }
   ],
   "source": [
    "print(re.findall(r'a*','Hello')) \n",
    "log.info(' Zero \\'a\\' found')"
   ]
  },
  {
   "cell_type": "code",
   "execution_count": 11,
   "metadata": {},
   "outputs": [
    {
     "name": "stdout",
     "output_type": "stream",
     "text": [
      "[]\n",
      "Explanation | INFO :  No 'a' found\n"
     ]
    }
   ],
   "source": [
    "print(re.findall(r'aa*','Hello')) \n",
    "log.info(' No \\'a\\' found')"
   ]
  },
  {
   "cell_type": "code",
   "execution_count": 12,
   "metadata": {},
   "outputs": [
    {
     "name": "stdout",
     "output_type": "stream",
     "text": [
      "['', 'aaaaaa', '', '', '', 'aaaaaaa', '', 'a', '', '', '', 'a', '']\n",
      "Explanation | INFO : Matches if string has zero or more 'a' or 'b' \n"
     ]
    }
   ],
   "source": [
    "print(re.findall(r'[ab]*','Baaaaaa & aaaaaaa and a')) \n",
    "log.info('Matches if string has zero or more \\'a\\' or \\'b\\' ')"
   ]
  },
  {
   "cell_type": "code",
   "execution_count": 13,
   "metadata": {},
   "outputs": [
    {
     "name": "stdout",
     "output_type": "stream",
     "text": [
      "['bbbbbb', '']\n",
      "Explanation | INFO :  Matches if string has zero or more 'a' or 'b' \n"
     ]
    }
   ],
   "source": [
    "print(re.findall(r'[ab]*','bbbbbb')) \n",
    "log.info(' Matches if string has zero or more \\'a\\' or \\'b\\' ')"
   ]
  },
  {
   "cell_type": "markdown",
   "metadata": {},
   "source": [
    "#### Kleene +\n",
    "\n",
    "> The Kleene + means “one or more occurrences of the immediately previous character or regular expression”.\n",
    "\n",
    "For example,\n",
    "\n",
    "/a+/ - Matches one or more 'a'. Matches 'baaaaaaa' but not 'Hello'<br>\n",
    "\n",
    "/[0-9]+/ - Matches sequence of digits<br>\n"
   ]
  },
  {
   "cell_type": "code",
   "execution_count": 14,
   "metadata": {},
   "outputs": [
    {
     "name": "stdout",
     "output_type": "stream",
     "text": [
      "['9457068769']\n",
      "Explanation | INFO :  Matches sequence of digits\n"
     ]
    }
   ],
   "source": [
    "print(re.findall(r'[0-9]+','My phone number is 9457068769')) \n",
    "log.info(' Matches sequence of digits')"
   ]
  },
  {
   "cell_type": "markdown",
   "metadata": {},
   "source": [
    "#### Period .\n",
    "\n",
    "> The period specifies any single character (wildcard).\n",
    "\n",
    "For example,\n",
    "\n",
    "/beg.n/ - Matches for any single character betwee'beg' and 'n'<br>\n"
   ]
  },
  {
   "cell_type": "code",
   "execution_count": 15,
   "metadata": {},
   "outputs": [
    {
     "name": "stdout",
     "output_type": "stream",
     "text": [
      "['begin', 'begun', \"beg'n\"]\n",
      "Explanation | INFO :  Matches anything with \"beg\" and \"n\"\n"
     ]
    }
   ],
   "source": [
    "print(re.findall(r'beg.n','begin vs begun vs beg\\'n')) \n",
    "log.info(' Matches anything with \"beg\" and \"n\"')"
   ]
  },
  {
   "cell_type": "code",
   "execution_count": 16,
   "metadata": {},
   "outputs": [
    {
     "name": "stdout",
     "output_type": "stream",
     "text": [
      "['tday vs timid vs ticked vs topped']\n",
      "Explanation | INFO :  Matches sequence starting with \"t\" and ending with \"d\"\n"
     ]
    }
   ],
   "source": [
    "print(re.findall(r't.*d','tday vs timid vs ticked vs topped vs top')) \n",
    "log.info(' Matches sequence starting with \"t\" and ending with \"d\"')"
   ]
  },
  {
   "cell_type": "code",
   "execution_count": 17,
   "metadata": {},
   "outputs": [
    {
     "name": "stdout",
     "output_type": "stream",
     "text": [
      "['begin']\n",
      "Explanation | INFO :  Matches anything with \"beg\" and \"n\"\n"
     ]
    }
   ],
   "source": [
    "print(re.findall(r'beg.n','It is the beginning')) \n",
    "log.info(' Matches anything with \"beg\" and \"n\"')"
   ]
  },
  {
   "cell_type": "markdown",
   "metadata": {},
   "source": [
    "#### Anchors \n",
    "\n",
    "> Anchors are special characters that anchor regular expressions to particular places in a string.\n",
    "\n",
    "* ^ (caret) specifies the start of line.\n",
    "\n",
    "* $ (dollar) matches end of line.\n",
    "\n",
    "* \\b matches a word boundary.\n",
    "\n",
    "* \\B matches a non-word boundary"
   ]
  },
  {
   "cell_type": "code",
   "execution_count": 18,
   "metadata": {},
   "outputs": [
    {
     "name": "stdout",
     "output_type": "stream",
     "text": [
      "['The']\n",
      "Explanation | INFO :  Matches if \"The\" is at the beginning of string\n"
     ]
    }
   ],
   "source": [
    "print(re.findall(r'^The','The is a very common word in English')) \n",
    "log.info(' Matches if \"The\" is at the beginning of string')"
   ]
  },
  {
   "cell_type": "code",
   "execution_count": 19,
   "metadata": {},
   "outputs": [
    {
     "name": "stdout",
     "output_type": "stream",
     "text": [
      "[]\n",
      "Explanation | INFO :  Matches if \"the\" is at the beginning of string. Note that \"the\" is present but not matched.\n"
     ]
    }
   ],
   "source": [
    "print(re.findall(r'^the','The is the most common word in English')) \n",
    "log.info(' Matches if \"the\" is at the beginning of string. Note that \"the\" is present but not matched.')"
   ]
  },
  {
   "cell_type": "code",
   "execution_count": 20,
   "metadata": {},
   "outputs": [
    {
     "name": "stdout",
     "output_type": "stream",
     "text": [
      "['the']\n",
      "Explanation | INFO :  Matches if \"the\" is at the end of string.\n"
     ]
    }
   ],
   "source": [
    "print(re.findall(r'the$','Pattern you are looking for is -> the')) \n",
    "log.info(' Matches if \"the\" is at the end of string.')"
   ]
  },
  {
   "cell_type": "code",
   "execution_count": 33,
   "metadata": {},
   "outputs": [
    {
     "name": "stdout",
     "output_type": "stream",
     "text": [
      "[]\n",
      "Explanation | INFO :  Matches if \"the\" is at the end of string. Notice that \"the\" is present but not matched\n"
     ]
    }
   ],
   "source": [
    "print(re.findall(r'the$','You are the winner')) \n",
    "log.info(' Matches if \"the\" is at the end of string. Notice that \"the\" is present but not matched')"
   ]
  },
  {
   "cell_type": "code",
   "execution_count": 22,
   "metadata": {},
   "outputs": [
    {
     "name": "stdout",
     "output_type": "stream",
     "text": [
      "['the']\n",
      "Explanation | INFO :  Matches words having only \"the\". Notice that \"the\" is present in \"other\" but not matched\n"
     ]
    }
   ],
   "source": [
    "print(re.findall(r'\\bthe\\b','the vs other')) \n",
    "log.info(' Matches words having only \"the\". Notice that \"the\" is present in \"other\" but not matched')"
   ]
  },
  {
   "cell_type": "code",
   "execution_count": 35,
   "metadata": {},
   "outputs": [
    {
     "name": "stdout",
     "output_type": "stream",
     "text": [
      "['the']\n"
     ]
    }
   ],
   "source": [
    "print(re.findall(r'\\bthe\\b','the vs other')) "
   ]
  },
  {
   "cell_type": "markdown",
   "metadata": {},
   "source": [
    "<h2 style=\"text-align:center\">Disjunction, Grouping, & Precedence</h2>"
   ]
  },
  {
   "cell_type": "markdown",
   "metadata": {},
   "source": [
    "#### Disjunction operator |\n",
    "\n",
    "> Disjunction operator is used to search for more than one string. Example, you want to search for \"cats\" or \"dogs\". You cannot use /[catsdogs]/, instead use /cats|dogs/\n",
    "\n",
    "For example,\n",
    "\n",
    "/cats|dogs/ - This regex matches <strong>cats</strong> or <strong>dogs</strong>.<br>"
   ]
  },
  {
   "cell_type": "code",
   "execution_count": 24,
   "metadata": {},
   "outputs": [
    {
     "data": {
      "text/plain": [
       "['cats', 'dogs']"
      ]
     },
     "execution_count": 24,
     "metadata": {},
     "output_type": "execute_result"
    }
   ],
   "source": [
    "re.findall(r'cats|dogs','I have two cats and 3 dogs')"
   ]
  },
  {
   "cell_type": "code",
   "execution_count": 25,
   "metadata": {},
   "outputs": [
    {
     "data": {
      "text/plain": [
       "<re.Match object; span=(11, 15), match='cats'>"
      ]
     },
     "execution_count": 25,
     "metadata": {},
     "output_type": "execute_result"
    }
   ],
   "source": [
    "re.search(r'cats|dogs','I have two cats and 3 dogs')"
   ]
  },
  {
   "cell_type": "code",
   "execution_count": 36,
   "metadata": {},
   "outputs": [
    {
     "name": "stdout",
     "output_type": "stream",
     "text": [
      "[]\n",
      "Explanation | INFO :  It returns empty list because there are no string of digits or(|) uppercase letters\n"
     ]
    }
   ],
   "source": [
    "print(re.findall(r'[0-9]+|[A-Z]','this will return empty list'))\n",
    "log.info(\" It returns empty list because there are no string of digits or(|) uppercase letters\")"
   ]
  },
  {
   "cell_type": "code",
   "execution_count": 27,
   "metadata": {},
   "outputs": [
    {
     "name": "stdout",
     "output_type": "stream",
     "text": [
      "['3', '5']\n",
      "Explanation | INFO :  It returns where it finds a sequence of one or more digits\n"
     ]
    }
   ],
   "source": [
    "print(re.findall(r'[0-9]+|[A-Z]','this will return something because it has num3er5'))\n",
    "log.info(\" It returns where it finds a sequence of one or more digits\")"
   ]
  },
  {
   "cell_type": "code",
   "execution_count": 28,
   "metadata": {},
   "outputs": [
    {
     "name": "stdout",
     "output_type": "stream",
     "text": [
      "['3', '5', 'U', 'P', 'P', 'E', 'R', 'C', 'A', 'S', 'E', 'L', 'E', 'T', 'T', 'E', 'R', 'S']\n",
      "Explanation | INFO :  It returns where it finds a sequence of one or more digits or uppercase letters\n"
     ]
    }
   ],
   "source": [
    "print(re.findall(r'[0-9]+|[A-Z]','this will return something because it has num3er5 as well as UPPERCASE LETTERS'))\n",
    "log.info(\" It returns where it finds a sequence of one or more digits or uppercase letters\")"
   ]
  },
  {
   "cell_type": "code",
   "execution_count": 29,
   "metadata": {},
   "outputs": [
    {
     "name": "stdout",
     "output_type": "stream",
     "text": [
      "['3', '5', 'UPPERCASE', 'LETTERS']\n",
      "Explanation | INFO :  Notice the differece in output due to Kleene+\n"
     ]
    }
   ],
   "source": [
    "print(re.findall(r'[0-9]+|[A-Z]+','this will return something because it has num3er5 as well as UPPERCASE LETTERS'))\n",
    "log.info(\" Notice the differece in output due to Kleene+\")"
   ]
  },
  {
   "cell_type": "markdown",
   "metadata": {},
   "source": [
    "#### Precedence ( )\n",
    "\n",
    "> Enclosing a pattern inside () makes it act like a single character. \n",
    "\n",
    "For example, <br>\n",
    "If you want to match 'guppy' or 'guppies', you can use /gupp(y | ies)/ instead of /guppy | guppies/."
   ]
  },
  {
   "cell_type": "code",
   "execution_count": 37,
   "metadata": {},
   "outputs": [
    {
     "name": "stdout",
     "output_type": "stream",
     "text": [
      "<re.Match object; span=(16, 23), match='guppies'>\n",
      "Explanation | INFO :  Using search() here to demonstrate. search() returns when the first match is found.\n"
     ]
    }
   ],
   "source": [
    "print(re.search(r'gupp(y|ies)','I have a lot of guppies and she has one guppy'))\n",
    "log.info(\" Using search() here to demonstrate. search() returns when the first match is found.\")"
   ]
  },
  {
   "cell_type": "markdown",
   "metadata": {},
   "source": [
    "---\n",
    "\n",
    "<h1 style=\"text-align:center\"> Operator precedence hierarchy</h1>"
   ]
  },
  {
   "cell_type": "code",
   "execution_count": 38,
   "metadata": {},
   "outputs": [
    {
     "name": "stdout",
     "output_type": "stream",
     "text": [
      "+---------------+----------+\n",
      "| Operator Name | Operator |\n",
      "+---------------+----------+\n",
      "|  Paranthesis  |    ()    |\n",
      "|    Counters   | * + ? {} |\n",
      "|  Disjunction  |    |     |\n",
      "+---------------+----------+\n"
     ]
    }
   ],
   "source": [
    "from prettytable import PrettyTable\n",
    "table = PrettyTable()\n",
    "table.field_names = ('Operator Name','Operator')\n",
    "table.add_row([\"Paranthesis\", '()'])\n",
    "table.add_row([\"Counters\", '* + ? {}'])\n",
    "table.add_row([\"Disjunction\", '|'])\n",
    "print(table)"
   ]
  },
  {
   "cell_type": "markdown",
   "metadata": {},
   "source": [
    "* It's easy to miss some strings while using regular expressions because one patterns match may miss another type of pattern.\n",
    "---\n",
    "\n",
    "> There are two kinds of errors: \n",
    "\n",
    "* false positives : strings that we incorrectly matched.\n",
    "* false negatives, strings that we incorrectly missed."
   ]
  },
  {
   "cell_type": "markdown",
   "metadata": {},
   "source": [
    "Reducing the overall error rate for an application thus involves two antagonistic efforts:\n",
    "<br>\n",
    "\n",
    "• Increasing <strong>precision</strong> (minimizing false positives) <br>\n",
    "    • Increasing <strong>recall</strong> (minimizing false negatives)"
   ]
  },
  {
   "cell_type": "markdown",
   "metadata": {},
   "source": [
    "#### Substitution operator s/\n",
    "\n",
    "> Substitution operator is used to substitute a regex with a given pattern.\n",
    "\n",
    "\n",
    "For example, <br>\n",
    "If you want to substitute 'guppy' with 'guppies', you can use s/guppy/guppies/.\n",
    "\n",
    "*Python code below*"
   ]
  },
  {
   "cell_type": "code",
   "execution_count": 32,
   "metadata": {},
   "outputs": [
    {
     "data": {
      "text/plain": [
       "'I have 4 guppies'"
      ]
     },
     "execution_count": 32,
     "metadata": {},
     "output_type": "execute_result"
    }
   ],
   "source": [
    "re.sub(pattern=r'guppy',string='I have 4 guppy',repl='guppies')"
   ]
  },
  {
   "cell_type": "markdown",
   "metadata": {},
   "source": [
    "---\n",
    "\n",
    "##### Capture group\n",
    "\n",
    "> This use of parentheses to store a pattern in memory is called a capture group. Every time a capture group is used (i.e., parentheses surround a pattern), the re- sulting match is stored in a numbered register. If you match two different sets of parentheses, \\2 means whatever matched the second capture group.\n",
    "\n",
    "For example, \n",
    "\n",
    "/the (.*)er they (.*), the \\1er we \\2/\n",
    "\n",
    "The above regex will match 'the faster they ran, the faster we ran' but not 'the faster they ran, the faster we ate'."
   ]
  },
  {
   "cell_type": "markdown",
   "metadata": {},
   "source": [
    "![capture group](../images/capture_group.png)"
   ]
  },
  {
   "cell_type": "markdown",
   "metadata": {},
   "source": [
    "* The first (.)er means anything that ends with er will match and stored in \\1er.\n",
    "* The second (.) means whatever is stored in (.) will have to match exactly at \\2."
   ]
  },
  {
   "cell_type": "code",
   "execution_count": 41,
   "metadata": {},
   "outputs": [
    {
     "data": {
      "text/plain": [
       "[]"
      ]
     },
     "execution_count": 41,
     "metadata": {},
     "output_type": "execute_result"
    }
   ],
   "source": [
    "re.findall(r'^(?!Volcano)[A-Za-z]+','Volcano has erupted')"
   ]
  },
  {
   "cell_type": "markdown",
   "metadata": {},
   "source": [
    "---\n",
    "\n",
    "Want to learn regex in depth? Click [here](https://github.com/ziishaned/learn-regex)"
   ]
  },
  {
   "cell_type": "code",
   "execution_count": null,
   "metadata": {},
   "outputs": [],
   "source": []
  }
 ],
 "metadata": {
  "kernelspec": {
   "display_name": "Python 3",
   "language": "python",
   "name": "python3"
  },
  "language_info": {
   "codemirror_mode": {
    "name": "ipython",
    "version": 3
   },
   "file_extension": ".py",
   "mimetype": "text/x-python",
   "name": "python",
   "nbconvert_exporter": "python",
   "pygments_lexer": "ipython3",
   "version": "3.7.4"
  }
 },
 "nbformat": 4,
 "nbformat_minor": 2
}
