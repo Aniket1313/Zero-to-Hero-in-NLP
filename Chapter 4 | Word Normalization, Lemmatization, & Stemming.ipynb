{
 "cells": [
  {
   "cell_type": "markdown",
   "metadata": {},
   "source": [
    "<h1 style=\"text-align:center\">Chapter 4</h1>"
   ]
  },
  {
   "cell_type": "markdown",
   "metadata": {},
   "source": [
    "##  Normalization\n",
    "\n",
    "> Normalization is the task of putting words/tokens in a standard format.Normalization is benefecial despite the spelling information that is lost."
   ]
  },
  {
   "cell_type": "markdown",
   "metadata": {},
   "source": [
    "#### Case folding\n",
    "---\n",
    "\n",
    "> Mapping everything to the same case(lower or upper) is called case folding.\n",
    "\n",
    "Case folding is helpful for tasks like speech recognition, information retrieval.\n",
    "\n",
    "For sentiment analysis and other text classification tasks, information\n",
    "extraction, and machine translation, by contrast, case can be quite helpful and case\n",
    "folding is generally not done.\n",
    "\n",
    "\n",
    "Example,\n",
    "\n",
    "'US' the country and 'us' the pronoun can outweigh the advantage in\n",
    "generalization that case folding would have provided for other words."
   ]
  },
  {
   "cell_type": "code",
   "execution_count": null,
   "metadata": {},
   "outputs": [],
   "source": []
  }
 ],
 "metadata": {
  "kernelspec": {
   "display_name": "Python 3",
   "language": "python",
   "name": "python3"
  },
  "language_info": {
   "codemirror_mode": {
    "name": "ipython",
    "version": 3
   },
   "file_extension": ".py",
   "mimetype": "text/x-python",
   "name": "python",
   "nbconvert_exporter": "python",
   "pygments_lexer": "ipython3",
   "version": "3.6.9"
  }
 },
 "nbformat": 4,
 "nbformat_minor": 2
}
